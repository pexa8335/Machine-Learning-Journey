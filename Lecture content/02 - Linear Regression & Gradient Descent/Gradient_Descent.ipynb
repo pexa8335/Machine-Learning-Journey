{
 "cells": [
  {
   "cell_type": "code",
   "execution_count": 50,
   "id": "87aec5ff",
   "metadata": {},
   "outputs": [],
   "source": [
    "import numpy as np\n",
    "import matplotlib.pyplot as plt\n",
    "import seaborn as sns"
   ]
  },
  {
   "cell_type": "markdown",
   "id": "201c802b",
   "metadata": {},
   "source": [
    "# 1. Implement dataset"
   ]
  },
  {
   "cell_type": "code",
   "execution_count": 51,
   "id": "5f0c8a12",
   "metadata": {},
   "outputs": [],
   "source": [
    "np.random.seed(4)"
   ]
  },
  {
   "cell_type": "code",
   "execution_count": 52,
   "id": "3f47ae9b",
   "metadata": {},
   "outputs": [
    {
     "data": {
      "text/plain": [
       "array([0.96702984, 0.54723225, 0.97268436, 0.71481599, 0.69772882])"
      ]
     },
     "execution_count": 52,
     "metadata": {},
     "output_type": "execute_result"
    }
   ],
   "source": [
    "x = np.random.uniform(0, 1, 50) # 50 data points using uniform distribution\n",
    "x[:5]"
   ]
  },
  {
   "cell_type": "code",
   "execution_count": 53,
   "id": "5faa0f27",
   "metadata": {},
   "outputs": [],
   "source": [
    "# Remember: In reality we don't have this function\n",
    "def f(x):\n",
    "    return 3*x + 2"
   ]
  },
  {
   "cell_type": "code",
   "execution_count": 54,
   "id": "efad0189",
   "metadata": {},
   "outputs": [
    {
     "data": {
      "text/plain": [
       "array([4.90108952, 3.64169675, 4.91805308, 4.14444798, 4.09318647])"
      ]
     },
     "execution_count": 54,
     "metadata": {},
     "output_type": "execute_result"
    }
   ],
   "source": [
    "t = f(x)\n",
    "t[:5]"
   ]
  },
  {
   "cell_type": "code",
   "execution_count": 55,
   "id": "6479c1eb",
   "metadata": {},
   "outputs": [
    {
     "data": {
      "text/plain": [
       "array([4.76298784, 4.0399527 , 4.34615379, 4.39940787, 3.41945633])"
      ]
     },
     "execution_count": 55,
     "metadata": {},
     "output_type": "execute_result"
    }
   ],
   "source": [
    "noise = np.random.normal(0, 0.5, size=x.shape[0])\n",
    "# Reality target values have noises\n",
    "\n",
    "t = t + noise\n",
    "t[:5]"
   ]
  },
  {
   "cell_type": "markdown",
   "id": "2192f24e",
   "metadata": {},
   "source": [
    "## Visualization"
   ]
  },
  {
   "cell_type": "code",
   "execution_count": 56,
   "id": "6e1da5e8",
   "metadata": {},
   "outputs": [
    {
     "data": {
      "image/png": "[encoded data removed]",
      "text/plain": [
       "<Figure size 500x300 with 1 Axes>"
      ]
     },
     "metadata": {},
     "output_type": "display_data"
    }
   ],
   "source": [
    "# Plot the target t versus the input x\n",
    "plt.figure(figsize=(5,3))\n",
    "plt.plot(x, t, 'o', label='$t$')\n",
    "# plt.plot([0, 1], [f(0), f(1)], 'r--', label='$f(x)$')\n",
    "plt.xlabel('$x$')\n",
    "plt.ylabel('$t$')\n",
    "plt.legend()\n",
    "plt.show()"
   ]
  },
  {
   "cell_type": "code",
   "execution_count": 64,
   "id": "ae7fb228",
   "metadata": {},
   "outputs": [
    {
     "data": {
      "image/png": "[encoded data removed]",
      "text/plain": [
       "<Figure size 500x300 with 1 Axes>"
      ]
     },
     "metadata": {},
     "output_type": "display_data"
    }
   ],
   "source": [
    "# Plot the loss versus different weight values of w_0\n",
    "\n",
    "w_s = np.linspace(0, 10, num=1000) # weight values\n",
    "losses = np.array([loss(model(x, w_0), t) for w_0 in w_s]) # Run the loss and model definition below \n",
    "\n",
    "plt.figure(figsize=(5,3))\n",
    "plt.plot(w_s, losses, 'r--', label='loss')\n",
    "plt.xlabel('$w_0$')\n",
    "plt.ylabel('Loss $L(w)$')\n",
    "plt.legend()\n",
    "plt.show()"
   ]
  },
  {
   "cell_type": "markdown",
   "id": "106f85fe",
   "metadata": {},
   "source": [
    "\\begin{equation}\n",
    "L(w) = \\frac{1}{N} \\sum_{i=1}^N (t_i - w_{0}x^{(i)})^2 = \\frac{1}{N}\\sum_{i=1}^N L_i\n",
    "\\end{equation}"
   ]
  },
  {
   "cell_type": "markdown",
   "id": "5cda8a46",
   "metadata": {},
   "source": [
    "\\begin{equation}\n",
    "\\frac{dL}{dw_{0}} = \\frac{1}{N}\\sum_{i=1}^N 2(w_{0}x^{(i)}-t^{(i)})x^{(i)}\n",
    "\\end{equation}"
   ]
  },
  {
   "cell_type": "markdown",
   "id": "38e0ddd2",
   "metadata": {},
   "source": [
    "# 2. Define the gradient descent function"
   ]
  },
  {
   "cell_type": "markdown",
   "id": "5325d660",
   "metadata": {},
   "source": [
    "### 2.1 Define model - w_0 * x"
   ]
  },
  {
   "cell_type": "code",
   "execution_count": 57,
   "id": "8abf488a",
   "metadata": {},
   "outputs": [],
   "source": [
    "def model(w_0, x):\n",
    "    return w_0*x"
   ]
  },
  {
   "cell_type": "markdown",
   "id": "e2afec1d",
   "metadata": {},
   "source": [
    "### 2.2 Define loss function MSE"
   ]
  },
  {
   "cell_type": "code",
   "execution_count": 58,
   "id": "b089abda",
   "metadata": {},
   "outputs": [],
   "source": [
    "# def loss(w_0, x, t):\n",
    "#     return np.mean((t - model(w_0, x))**2)"
   ]
  },
  {
   "cell_type": "code",
   "execution_count": 59,
   "id": "a8d5e999",
   "metadata": {},
   "outputs": [],
   "source": [
    "# Or basically\n",
    "def loss (pred, t):\n",
    "    return np.mean((t - pred)**2)"
   ]
  },
  {
   "cell_type": "code",
   "execution_count": 60,
   "id": "ac033573",
   "metadata": {},
   "outputs": [],
   "source": [
    "# This is the deriative of loss function\n",
    "def gradient(w_0, t, x):\n",
    "    return np.mean(2 * (model(w_0, x) - t)*x)"
   ]
  },
  {
   "cell_type": "markdown",
   "id": "68deb1a7",
   "metadata": {},
   "source": [
    "### 2.3 Define Gradient Descent algorithm\n",
    "- learning rate alpha: 0.9\n",
    "- Initialized random value w_0\n",
    "- g't = L'(w_0)\n",
    "- w_0(t+1) = w_0 - alpha * g't\n",
    "- t = t + 1"
   ]
  },
  {
   "cell_type": "code",
   "execution_count": 61,
   "id": "03cf8899",
   "metadata": {},
   "outputs": [],
   "source": [
    "# Learning rate alpha\n",
    "alpha = 0.9 \n",
    "\n",
    "# Init random value\n",
    "w_0 = np.random.rand()\n",
    "\n",
    "# Init condition: number of iteration\n",
    "nb_of_iterations = 4\n",
    "\n",
    "# Store w_0 and it respectively loss value (w_0 = 1 loss = 0.7 for instance)\n",
    "w_loss = [(w_0, loss(model(w_0, x), t))]\n",
    "\n",
    "for _ in range(nb_of_iterations):\n",
    "    gt = gradient(w_0, t, x)\n",
    "    w_0 = w_0 - alpha * gt\n",
    "    w_loss.append((w_0, loss(model(w_0, x), t)))"
   ]
  },
  {
   "cell_type": "code",
   "execution_count": 62,
   "id": "1bba09b6",
   "metadata": {},
   "outputs": [
    {
     "data": {
      "text/plain": [
       "[(0.41903403455230037, np.float64(12.07161352616474)),\n",
       " (np.float64(3.9499776535256905), np.float64(2.620641090301609)),\n",
       " (np.float64(5.236938883879731), np.float64(1.3651146625864827)),\n",
       " (np.float64(5.706011570153871), np.float64(1.1983226608756936)),\n",
       " (np.float64(5.876979568115946), np.float64(1.1761649657283926))]"
      ]
     },
     "execution_count": 62,
     "metadata": {},
     "output_type": "execute_result"
    }
   ],
   "source": [
    "w_loss"
   ]
  },
  {
   "cell_type": "markdown",
   "id": "c01bec3b",
   "metadata": {},
   "source": [
    "=> With w_0 = 5.876, we reach minimal loss = 1.17 \n",
    "- This is the optimized w_0"
   ]
  },
  {
   "cell_type": "code",
   "execution_count": 67,
   "id": "465fe7cb",
   "metadata": {},
   "outputs": [
    {
     "data": {
      "image/png": "[encoded data removed]",
      "text/plain": [
       "<Figure size 500x300 with 1 Axes>"
      ]
     },
     "metadata": {},
     "output_type": "display_data"
    }
   ],
   "source": [
    "# Plot the dataset\n",
    "plt.figure(figsize=(5,3))\n",
    "plt.plot(x, t, 'o', label='$t$')\n",
    "plt.xlabel('$x$')\n",
    "plt.ylabel('$t$')\n",
    "\n",
    "\n",
    "# Plot our model\n",
    "plt.plot([0, 1], [model(0, w_0), model(1, w_0)], 'r--', label='$f_w(x) = 5.876x$')\n",
    "\n",
    "# Plot the target function\n",
    "plt.plot([0, 1], [f(0), f(1)], 'k:',  label='$f(x) = 3x+2$')\n",
    "plt.legend()\n",
    "plt.show()"
   ]
  },
  {
   "cell_type": "markdown",
   "id": "b9d96370",
   "metadata": {},
   "source": [
    "Why does the model (red line) still perform bad results?\n",
    "- w_0x always pass through the origin, can't represent this dataset (Gradient_Descent.md - 2.4 Optimization)"
   ]
  },
  {
   "cell_type": "markdown",
   "id": "4d45bf49",
   "metadata": {},
   "source": [
    "# 3. Define a new model of the form\n",
    "\n",
    "\\begin{equation}\n",
    "y = f_w(x) = w_0 + w_1x\n",
    "\\end{equation}"
   ]
  },
  {
   "cell_type": "markdown",
   "id": "5154685b",
   "metadata": {},
   "source": [
    "## 3.1 Gradient "
   ]
  },
  {
   "cell_type": "markdown",
   "id": "fea346ec",
   "metadata": {},
   "source": [
    "$$\\nabla_w L(\\mathbf{w}) = \\begin{bmatrix} \\frac{\\partial L(\\mathbf{w})}{\\partial w_0} \\\\ \\frac{\\partial L(\\mathbf{w})}{\\partial w_1} \\end{bmatrix} = \\frac{2}{N} \\begin{bmatrix} \\sum_{i=1}^N ((w_0 + w_1 x^{(i)}) - t^{(i)}) \\cdot 1 \\\\ \\sum_{i=1}^N ((w_0 + w_1 x^{(i)}) - t^{(i)}) \\cdot x^{(i)} \\end{bmatrix} = \\frac{2}{N} \\mathbf{X}^T (\\mathbf{X}\\mathbf{w} - \\mathbf{t})$$"
   ]
  },
  {
   "cell_type": "code",
   "execution_count": 80,
   "id": "e4fcf869",
   "metadata": {},
   "outputs": [
    {
     "name": "stdout",
     "output_type": "stream",
     "text": [
      "(50, 2)\n"
     ]
    },
    {
     "data": {
      "text/plain": [
       "array([[1.        , 0.96702984],\n",
       "       [1.        , 0.54723225],\n",
       "       [1.        , 0.97268436],\n",
       "       [1.        , 0.71481599],\n",
       "       [1.        , 0.69772882]])"
      ]
     },
     "execution_count": 80,
     "metadata": {},
     "output_type": "execute_result"
    }
   ],
   "source": [
    "# Re-arrange these data points into matrix\n",
    "X = np.array((np.ones_like(x), x)).T\n",
    "print(X.shape) # (n x d) format\n",
    "X[:5]"
   ]
  },
  {
   "cell_type": "code",
   "execution_count": 93,
   "id": "0ea03754",
   "metadata": {},
   "outputs": [],
   "source": [
    "# Xw is matrix multiplication - using dot product\n",
    "def new_model(w, X):\n",
    "    return X @ w"
   ]
  },
  {
   "cell_type": "code",
   "execution_count": 104,
   "id": "c75aa27a",
   "metadata": {},
   "outputs": [],
   "source": [
    "# Gradient\n",
    "def new_gradient(X, w, t):\n",
    "    return 2*X.T @ (new_model(w, X) - t)"
   ]
  },
  {
   "cell_type": "markdown",
   "id": "85bf5855",
   "metadata": {},
   "source": [
    "### Run gradient descent algorithm"
   ]
  },
  {
   "cell_type": "code",
   "execution_count": 105,
   "id": "a2337816",
   "metadata": {},
   "outputs": [
    {
     "name": "stdout",
     "output_type": "stream",
     "text": [
      "Iter. 0:\t w[0]=0.4967 \t w[1]=-0.1383 \t Loss: 10.9979\n",
      "Iter. 1:\t w[0]=3.6405 \t w[1]=1.7624 \t Loss: 1.3651\n",
      "Iter. 2:\t w[0]=2.6544 \t w[1]=1.3610 \t Loss: 0.5380\n",
      "Iter. 3:\t w[0]=2.8626 \t w[1]=1.6130 \t Loss: 0.4446\n",
      "Iter. 4:\t w[0]=2.7319 \t w[1]=1.6679 \t Loss: 0.4151\n",
      "Iter. 5:\t w[0]=2.7034 \t w[1]=1.7713 \t Loss: 0.3936\n",
      "Iter. 6:\t w[0]=2.6498 \t w[1]=1.8529 \t Loss: 0.3752\n",
      "Iter. 7:\t w[0]=2.6074 \t w[1]=1.9335 \t Loss: 0.3592\n",
      "Iter. 8:\t w[0]=2.5656 \t w[1]=2.0077 \t Loss: 0.3451\n",
      "Iter. 9:\t w[0]=2.5271 \t w[1]=2.0774 \t Loss: 0.3329\n",
      "Iter. 10:\t w[0]=2.4910 \t w[1]=2.1424 \t Loss: 0.3222\n",
      "Iter. 11:\t w[0]=2.4572 \t w[1]=2.2032 \t Loss: 0.3128\n",
      "Iter. 12:\t w[0]=2.4257 \t w[1]=2.2601 \t Loss: 0.3046\n",
      "Iter. 13:\t w[0]=2.3962 \t w[1]=2.3132 \t Loss: 0.2975\n",
      "Iter. 14:\t w[0]=2.3686 \t w[1]=2.3629 \t Loss: 0.2912\n",
      "Iter. 15:\t w[0]=2.3428 \t w[1]=2.4094 \t Loss: 0.2858\n",
      "Iter. 16:\t w[0]=2.3187 \t w[1]=2.4528 \t Loss: 0.2810\n",
      "Iter. 17:\t w[0]=2.2962 \t w[1]=2.4934 \t Loss: 0.2768\n",
      "Iter. 18:\t w[0]=2.2751 \t w[1]=2.5314 \t Loss: 0.2732\n",
      "Iter. 19:\t w[0]=2.2554 \t w[1]=2.5668 \t Loss: 0.2700\n",
      "Iter. 20:\t w[0]=2.2370 \t w[1]=2.6000 \t Loss: 0.2672\n",
      "Iter. 21:\t w[0]=2.2198 \t w[1]=2.6310 \t Loss: 0.2648\n",
      "Iter. 22:\t w[0]=2.2037 \t w[1]=2.6600 \t Loss: 0.2626\n",
      "Iter. 23:\t w[0]=2.1887 \t w[1]=2.6871 \t Loss: 0.2608\n",
      "Iter. 24:\t w[0]=2.1746 \t w[1]=2.7124 \t Loss: 0.2592\n",
      "Iter. 25:\t w[0]=2.1615 \t w[1]=2.7361 \t Loss: 0.2577\n",
      "Iter. 26:\t w[0]=2.1492 \t w[1]=2.7583 \t Loss: 0.2565\n",
      "Iter. 27:\t w[0]=2.1377 \t w[1]=2.7790 \t Loss: 0.2554\n",
      "Iter. 28:\t w[0]=2.1270 \t w[1]=2.7983 \t Loss: 0.2545\n",
      "Iter. 29:\t w[0]=2.1169 \t w[1]=2.8164 \t Loss: 0.2536\n",
      "Iter. 30:\t w[0]=2.1075 \t w[1]=2.8333 \t Loss: 0.2529\n",
      "Iter. 31:\t w[0]=2.0988 \t w[1]=2.8491 \t Loss: 0.2523\n",
      "Iter. 32:\t w[0]=2.0906 \t w[1]=2.8639 \t Loss: 0.2517\n",
      "Iter. 33:\t w[0]=2.0829 \t w[1]=2.8777 \t Loss: 0.2512\n",
      "Iter. 34:\t w[0]=2.0757 \t w[1]=2.8907 \t Loss: 0.2508\n",
      "Iter. 35:\t w[0]=2.0690 \t w[1]=2.9027 \t Loss: 0.2504\n",
      "Iter. 36:\t w[0]=2.0628 \t w[1]=2.9140 \t Loss: 0.2501\n",
      "Iter. 37:\t w[0]=2.0569 \t w[1]=2.9246 \t Loss: 0.2498\n",
      "Iter. 38:\t w[0]=2.0514 \t w[1]=2.9344 \t Loss: 0.2496\n",
      "Iter. 39:\t w[0]=2.0463 \t w[1]=2.9437 \t Loss: 0.2494\n",
      "Iter. 40:\t w[0]=2.0415 \t w[1]=2.9523 \t Loss: 0.2492\n",
      "Iter. 41:\t w[0]=2.0370 \t w[1]=2.9603 \t Loss: 0.2490\n",
      "Iter. 42:\t w[0]=2.0329 \t w[1]=2.9679 \t Loss: 0.2489\n",
      "Iter. 43:\t w[0]=2.0290 \t w[1]=2.9749 \t Loss: 0.2488\n",
      "Iter. 44:\t w[0]=2.0253 \t w[1]=2.9815 \t Loss: 0.2487\n",
      "Iter. 45:\t w[0]=2.0219 \t w[1]=2.9877 \t Loss: 0.2486\n",
      "Iter. 46:\t w[0]=2.0187 \t w[1]=2.9934 \t Loss: 0.2485\n",
      "Iter. 47:\t w[0]=2.0157 \t w[1]=2.9988 \t Loss: 0.2484\n",
      "Iter. 48:\t w[0]=2.0129 \t w[1]=3.0038 \t Loss: 0.2483\n",
      "Iter. 49:\t w[0]=2.0103 \t w[1]=3.0085 \t Loss: 0.2483\n",
      "Iter. 50:\t w[0]=2.0079 \t w[1]=3.0129 \t Loss: 0.2482\n"
     ]
    }
   ],
   "source": [
    "# Init random w\n",
    "np.random.seed(42)\n",
    "w = np.random.randn(2) # normal distribution\n",
    "\n",
    "# Init learning rate alpha\n",
    "alpha = 0.01\n",
    "\n",
    "losses = []\n",
    "params = []\n",
    "\n",
    "losses.append(loss(new_model(w, X), t))\n",
    "params.append(w.copy())\n",
    "print(f'Iter. 0:\\t w[0]={w[0]:.4f} \\t w[1]={w[1]:.4f} \\t Loss: {losses[-1]:.4f}')\n",
    "# Run GD for a number of steps\n",
    "nb_iterations = 50\n",
    "for i in range(nb_iterations):\n",
    "    grad = new_gradient(X, w, t)\n",
    "    w = w - alpha * grad\n",
    "    losses.append(loss(new_model(w, X), t))\n",
    "    params.append(w.copy())\n",
    "    print(f'Iter. {i+1}:\\t w[0]={w[0]:.4f} \\t w[1]={w[1]:.4f} \\t Loss: {losses[-1]:.4f}')\n",
    "# Print\n"
   ]
  },
  {
   "cell_type": "code",
   "execution_count": 106,
   "id": "8f1e4fff",
   "metadata": {},
   "outputs": [
    {
     "data": {
      "image/png": "[encoded data removed]",
      "text/plain": [
       "<Figure size 500x300 with 1 Axes>"
      ]
     },
     "metadata": {},
     "output_type": "display_data"
    }
   ],
   "source": [
    "# Plot the dataset\n",
    "plt.figure(figsize=(5,3))\n",
    "plt.plot(x, t, 'o', label='$t$')\n",
    "plt.xlabel('$x$')\n",
    "plt.ylabel('$t$')\n",
    "\n",
    "\n",
    "# Plot our model\n",
    "plt.plot([0, 1], [new_model(w, [[1,0]]), new_model(w, [[1,1]])], 'r--', label=f'$f_w(x)={w[0]:.2f} + {w[1]:.2f}x$')\n",
    "\n",
    "# Plot the target function\n",
    "plt.plot([0, 1], [f(0), f(1)], 'k:',  label='$f(x)$')\n",
    "plt.legend()\n",
    "plt.show()"
   ]
  }
 ],
 "metadata": {
  "kernelspec": {
   "display_name": "Python (Fine-tuning LLM)",
   "language": "python",
   "name": "fine-tuning-llm"
  },
  "language_info": {
   "codemirror_mode": {
    "name": "ipython",
    "version": 3
   },
   "file_extension": ".py",
   "mimetype": "text/x-python",
   "name": "python",
   "nbconvert_exporter": "python",
   "pygments_lexer": "ipython3",
   "version": "3.10.18"
  }
 },
 "nbformat": 4,
 "nbformat_minor": 5
}
